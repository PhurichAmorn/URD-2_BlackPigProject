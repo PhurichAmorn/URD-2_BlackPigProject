{
 "cells": [
  {
   "cell_type": "markdown",
   "id": "4fb688a1",
   "metadata": {},
   "source": [
    "# Get focal length/image width"
   ]
  },
  {
   "cell_type": "code",
   "execution_count": 6,
   "id": "5ec84d95",
   "metadata": {},
   "outputs": [
    {
     "name": "stdout",
     "output_type": "stream",
     "text": [
      "Image Width: 5712\n",
      "Focal Length: 5.960000038146973 mm\n",
      "Focal Length (35mm equivalent): 26 mm\n"
     ]
    }
   ],
   "source": [
    "from PIL import Image\n",
    "import exifread\n",
    "\n",
    "# Load the image\n",
    "image_path = \"kb60.jpg\"  # Replace with your image file path\n",
    "image = Image.open(image_path)\n",
    "\n",
    "# Get image width\n",
    "image_width = image.width\n",
    "\n",
    "# Open the image file for reading EXIF data\n",
    "with open(image_path, 'rb') as img_file:\n",
    "    tags = exifread.process_file(img_file)\n",
    "    focal_length_raw = tags.get('EXIF FocalLength', 'Not available')\n",
    "    focal_length_35mm_raw = tags.get('EXIF FocalLengthIn35mmFilm', 'Not available')\n",
    "    \n",
    "    # Convert focal length to float\n",
    "    if focal_length_raw != 'Not available':\n",
    "        focal_length = float(focal_length_raw.values[0])\n",
    "    else:\n",
    "        focal_length = 'Not available'\n",
    "    \n",
    "    # Convert 35mm focal length to int\n",
    "    if focal_length_35mm_raw != 'Not available':\n",
    "        focal_length_35mm = int(focal_length_35mm_raw.values[0])\n",
    "    else:\n",
    "        focal_length_35mm = 'Not available'\n",
    "\n",
    "print(f\"Image Width: {image_width}\")\n",
    "print(f\"Focal Length: {focal_length} mm\")\n",
    "print(f\"Focal Length (35mm equivalent): {focal_length_35mm} mm\")"
   ]
  },
  {
   "cell_type": "code",
   "execution_count": 7,
   "id": "9a9519f9",
   "metadata": {},
   "outputs": [
    {
     "name": "stdout",
     "output_type": "stream",
     "text": [
      "Estimated sensor width: 8.25 mm\n"
     ]
    }
   ],
   "source": [
    "import math\n",
    "\n",
    "def estimate_sensor_width(focal_length_mm, focal_length_35mm):\n",
    "    \"\"\"\n",
    "    Estimate sensor width (mm) using crop factor.\n",
    "    - crop_factor = focal_35mm / focal_mm\n",
    "    - sensor_width = 36 mm / crop_factor\n",
    "    \"\"\"\n",
    "    if not focal_length_mm or not focal_length_35mm:\n",
    "        return None\n",
    "    crop_factor = focal_length_35mm / focal_length_mm\n",
    "    return 36.0 / crop_factor\n",
    "\n",
    "\n",
    "sensor_width_mm = estimate_sensor_width(focal_length, focal_length_35mm)\n",
    "print(f\"Estimated sensor width: {sensor_width_mm:.2f} mm\")"
   ]
  },
  {
   "cell_type": "code",
   "execution_count": 8,
   "id": "22819d5f",
   "metadata": {},
   "outputs": [
    {
     "name": "stdout",
     "output_type": "stream",
     "text": [
      "Real object size: 329.72 mm (32.97 cm)\n"
     ]
    }
   ],
   "source": [
    "def calculate_object_size(pixel_length, image_width_pixels, sensor_width_mm, focal_length_mm, distance_mm):\n",
    "    \"\"\"\n",
    "    Calculate real-world object size from pixel measurements.\n",
    "    \n",
    "    Formula:\n",
    "    1. pixel_size_mm = sensor_width_mm / image_width_pixels\n",
    "    2. object_size_on_sensor_mm = pixel_length × pixel_size_mm\n",
    "    3. real_object_size_mm = (object_size_on_sensor_mm × distance_mm) / focal_length_mm\n",
    "    \n",
    "    Args:\n",
    "        pixel_length: Length of object in pixels\n",
    "        image_width_pixels: Image width in pixels\n",
    "        sensor_width_mm: Camera sensor width in mm\n",
    "        focal_length_mm: Focal length in mm\n",
    "        distance_mm: Distance from camera to object in mm\n",
    "    \n",
    "    Returns:\n",
    "        Real object size in mm\n",
    "    \"\"\"\n",
    "    # Calculate pixel size in mm\n",
    "    pixel_size_mm = sensor_width_mm / image_width_pixels\n",
    "    \n",
    "    # Calculate object size on sensor\n",
    "    object_size_on_sensor_mm = pixel_length * pixel_size_mm\n",
    "    \n",
    "    # Calculate real object size using similar triangles\n",
    "    real_object_size_mm = (object_size_on_sensor_mm * distance_mm) / focal_length_mm\n",
    "    \n",
    "    return real_object_size_mm\n",
    "\n",
    "# Your data\n",
    "image_width_pixels = image_width\n",
    "focal_length_mm = focal_length\n",
    "sensor_width_mm = sensor_width_mm\n",
    "pixel_length = 2267\n",
    "\n",
    "# You need to know the distance to the object\n",
    "distance_mm = 600  # Example: 1000mm = 1 meter (you need to measure this!)\n",
    "\n",
    "object_size_mm = calculate_object_size(\n",
    "    pixel_length=pixel_length,\n",
    "    image_width_pixels=image_width_pixels,\n",
    "    sensor_width_mm=sensor_width_mm,\n",
    "    focal_length_mm=focal_length_mm,\n",
    "    distance_mm=distance_mm\n",
    ")\n",
    "\n",
    "print(f\"Real object size: {object_size_mm:.2f} mm ({object_size_mm/10:.2f} cm)\")"
   ]
  }
 ],
 "metadata": {
  "kernelspec": {
   "display_name": "URD2",
   "language": "python",
   "name": "python3"
  },
  "language_info": {
   "codemirror_mode": {
    "name": "ipython",
    "version": 3
   },
   "file_extension": ".py",
   "mimetype": "text/x-python",
   "name": "python",
   "nbconvert_exporter": "python",
   "pygments_lexer": "ipython3",
   "version": "3.13.7"
  }
 },
 "nbformat": 4,
 "nbformat_minor": 5
}
