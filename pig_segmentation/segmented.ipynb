{
 "cells": [
  {
   "cell_type": "markdown",
   "id": "f17eda72",
   "metadata": {},
   "source": [
    "# Import"
   ]
  },
  {
   "cell_type": "code",
   "execution_count": null,
   "id": "c4410de8",
   "metadata": {},
   "outputs": [],
   "source": [
    "import sys\n",
    "print(sys.executable)"
   ]
  },
  {
   "cell_type": "code",
   "execution_count": 1,
   "id": "a50552ff",
   "metadata": {},
   "outputs": [],
   "source": [
    "import torch\n",
    "from torchvision import models, transforms\n",
    "from PIL import Image\n",
    "import matplotlib.pyplot as plt\n",
    "import numpy as np\n",
    "from scipy import ndimage\n",
    "import matplotlib.patches as patches"
   ]
  },
  {
   "cell_type": "markdown",
   "id": "2d533c42",
   "metadata": {},
   "source": [
    "# Run"
   ]
  },
  {
   "cell_type": "code",
   "execution_count": null,
   "id": "3f6eceaa",
   "metadata": {},
   "outputs": [
    {
     "name": "stderr",
     "output_type": "stream",
     "text": [
      "c:\\Users\\TTest\\anaconda3\\Lib\\site-packages\\torchvision\\models\\_utils.py:208: UserWarning: The parameter 'pretrained' is deprecated since 0.13 and may be removed in the future, please use 'weights' instead.\n",
      "  warnings.warn(\n",
      "c:\\Users\\TTest\\anaconda3\\Lib\\site-packages\\torchvision\\models\\_utils.py:223: UserWarning: Arguments other than a weight enum or `None` for 'weights' are deprecated since 0.13 and may be removed in the future. The current behavior is equivalent to passing `weights=DeepLabV3_MobileNet_V3_Large_Weights.COCO_WITH_VOC_LABELS_V1`. You can also use `weights=DeepLabV3_MobileNet_V3_Large_Weights.DEFAULT` to get the most up-to-date weights.\n",
      "  warnings.warn(msg)\n"
     ]
    },
    {
     "name": "stdout",
     "output_type": "stream",
     "text": [
      "Pig length (in pixels): 146\n"
     ]
    },
    {
     "ename": "",
     "evalue": "",
     "output_type": "error",
     "traceback": [
      "\u001b[1;31mThe Kernel crashed while executing code in the current cell or a previous cell. \n",
      "\u001b[1;31mPlease review the code in the cell(s) to identify a possible cause of the failure. \n",
      "\u001b[1;31mClick <a href='https://aka.ms/vscodeJupyterKernelCrash'>here</a> for more info. \n",
      "\u001b[1;31mView Jupyter <a href='command:jupyter.viewOutput'>log</a> for further details."
     ]
    }
   ],
   "source": [
    "\n",
    "model = models.segmentation.deeplabv3_mobilenet_v3_large(pretrained=True).eval()\n",
    "\n",
    "\n",
    "input_image = Image.open('/Users/niner9/Desktop/CMKL/2.1/URD/pig.jpeg')\n",
    "preprocess = transforms.Compose([\n",
    "    transforms.Resize(320),\n",
    "    transforms.ToTensor(),\n",
    "    transforms.Normalize(mean=[0.485, 0.456, 0.406], std=[0.229, 0.224, 0.225]),\n",
    "])\n",
    "input_tensor = preprocess(input_image).unsqueeze(0)\n",
    "\n",
    "with torch.no_grad():\n",
    "    output = model(input_tensor)['out'][0]\n",
    "mask = output.argmax(0).byte().cpu().numpy()\n",
    "\n",
    "binary_mask = (mask != 0).astype(np.uint8)\n",
    "\n",
    "labeled, num_features = ndimage.label(binary_mask)\n",
    "\n",
    "sizes = ndimage.sum(binary_mask, labeled, range(1, num_features + 1))\n",
    "largest_label = (sizes.argmax() + 1)\n",
    "pig_mask = (labeled == largest_label)\n",
    "\n",
    "coords = np.column_stack(np.where(pig_mask))\n",
    "\n",
    "min_row, min_col = coords.min(axis=0)\n",
    "max_row, max_col = coords.max(axis=0)\n",
    "\n",
    "pig_length_pixels = max(max_row - min_row, max_col - min_col)\n",
    "print(\"Pig length (in pixels):\", pig_length_pixels)\n",
    "\n",
    "fig, ax = plt.subplots()\n",
    "ax.imshow(pig_mask, cmap='gray')\n",
    "#rect = patches.Rectangle((min_col, min_row), max_col - min_col, max_row - min_row,\n",
    "#linewidth=2, edgecolor='r', facecolor='none')\n",
    "#ax.add_patch(rect)\n",
    "\n",
    "center_row = (min_row + max_row) // 3\n",
    "ref_length = 30 \n",
    "ref_start_col = min_col + (max_col - min_col - ref_length) // 2\n",
    "ref_end_col = ref_start_col + ref_length\n",
    "ax.plot([ref_start_col, ref_end_col], [center_row, center_row], color='red', linewidth=2, label=f'Reference Line ({ref_length} px)')\n",
    "\n",
    "plt.title(\"Pig with Reference Line (short, x-axis)\")\n",
    "plt.axis('off')\n",
    "plt.show()\n",
    "\n",
    "reference_length_cm = 50 \n",
    "pixels_per_cm = ref_length / reference_length_cm\n",
    "pig_length_pixels = max(max_row - min_row, max_col - min_col)\n",
    "pig_length_cm = pig_length_pixels / pixels_per_cm\n",
    "print(f\"Pig length: {pig_length_pixels:.2f} pixels ≈ {pig_length_cm:.2f} cm (using reference line)\")"
   ]
  }
 ],
 "metadata": {
  "kernelspec": {
   "display_name": "base",
   "language": "python",
   "name": "python3"
  },
  "language_info": {
   "codemirror_mode": {
    "name": "ipython",
    "version": 3
   },
   "file_extension": ".py",
   "mimetype": "text/x-python",
   "name": "python",
   "nbconvert_exporter": "python",
   "pygments_lexer": "ipython3",
   "version": "3.13.5"
  }
 },
 "nbformat": 4,
 "nbformat_minor": 5
}
