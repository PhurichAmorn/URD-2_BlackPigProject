{
 "cells": [
  {
   "cell_type": "markdown",
   "id": "f17eda72",
   "metadata": {},
   "source": [
    "# Import"
   ]
  },
  {
   "cell_type": "code",
   "execution_count": null,
   "id": "c4410de8",
   "metadata": {},
   "outputs": [],
   "source": [
    "import sys\n",
    "print(sys.executable)"
   ]
  },
  {
   "cell_type": "code",
   "execution_count": 1,
   "id": "a50552ff",
   "metadata": {},
   "outputs": [],
   "source": [
    "import torch\n",
    "from torchvision import models, transforms\n",
    "from PIL import Image\n",
    "import matplotlib.pyplot as plt\n",
    "import numpy as np\n",
    "from scipy import ndimage\n",
    "import matplotlib.patches as patches"
   ]
  },
  {
   "cell_type": "markdown",
   "id": "2d533c42",
   "metadata": {},
   "source": [
    "# Run"
   ]
  },
  {
   "cell_type": "code",
<<<<<<< Updated upstream
<<<<<<< Updated upstream
   "execution_count": null,
=======
   "execution_count": 5,
>>>>>>> Stashed changes
=======
   "execution_count": 5,
>>>>>>> Stashed changes
   "id": "3f6eceaa",
   "metadata": {},
   "outputs": [
    {
     "name": "stderr",
     "output_type": "stream",
     "text": [
      "c:\\Users\\TTest\\anaconda3\\Lib\\site-packages\\torchvision\\models\\_utils.py:208: UserWarning: The parameter 'pretrained' is deprecated since 0.13 and may be removed in the future, please use 'weights' instead.\n",
      "  warnings.warn(\n",
      "c:\\Users\\TTest\\anaconda3\\Lib\\site-packages\\torchvision\\models\\_utils.py:223: UserWarning: Arguments other than a weight enum or `None` for 'weights' are deprecated since 0.13 and may be removed in the future. The current behavior is equivalent to passing `weights=DeepLabV3_MobileNet_V3_Large_Weights.COCO_WITH_VOC_LABELS_V1`. You can also use `weights=DeepLabV3_MobileNet_V3_Large_Weights.DEFAULT` to get the most up-to-date weights.\n",
      "  warnings.warn(msg)\n"
     ]
    },
    {
     "name": "stdout",
     "output_type": "stream",
     "text": [
<<<<<<< Updated upstream
<<<<<<< Updated upstream
      "Pig length (in pixels): 146\n"
     ]
    },
    {
     "ename": "",
     "evalue": "",
     "output_type": "error",
     "traceback": [
      "\u001b[1;31mThe Kernel crashed while executing code in the current cell or a previous cell. \n",
      "\u001b[1;31mPlease review the code in the cell(s) to identify a possible cause of the failure. \n",
      "\u001b[1;31mClick <a href='https://aka.ms/vscodeJupyterKernelCrash'>here</a> for more info. \n",
      "\u001b[1;31mView Jupyter <a href='command:jupyter.viewOutput'>log</a> for further details."
=======
=======
>>>>>>> Stashed changes
      "Pig length (in pixels): 409\n"
     ]
    },
    {
     "data": {
      "image/png": "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",
      "text/plain": [
       "<Figure size 640x480 with 1 Axes>"
      ]
     },
     "metadata": {},
     "output_type": "display_data"
    },
    {
     "name": "stdout",
     "output_type": "stream",
     "text": [
      "x distance 409\n",
      "y distance 172\n",
      "Pig length: 409.00 pixels ≈ 340.83 cm (using reference line)\n"
<<<<<<< Updated upstream
>>>>>>> Stashed changes
=======
>>>>>>> Stashed changes
     ]
    }
   ],
   "source": [
    "\n",
    "model = models.segmentation.deeplabv3_mobilenet_v3_large(pretrained=True).eval()\n",
    "\n",
    "\n",
    "input_image = Image.open('/Users/niner9/Documents/GitHub/URD-2_BlackPigProject/pig_segmentation/data/blackpig1crop.jpg')\n",
    "preprocess = transforms.Compose([\n",
    "    transforms.Resize(320),\n",
    "    transforms.ToTensor(),\n",
    "    transforms.Normalize(mean=[0.485, 0.456, 0.406], std=[0.229, 0.224, 0.225]),\n",
    "])\n",
    "input_tensor = preprocess(input_image).unsqueeze(0)\n",
    "\n",
    "with torch.no_grad():\n",
    "    output = model(input_tensor)['out'][0]\n",
    "mask = output.argmax(0).byte().cpu().numpy()\n",
    "\n",
    "binary_mask = (mask != 0).astype(np.uint8)\n",
    "\n",
    "labeled, num_features = ndimage.label(binary_mask)\n",
    "\n",
    "sizes = ndimage.sum(binary_mask, labeled, range(1, num_features + 1))\n",
    "largest_label = (sizes.argmax() + 1)\n",
    "pig_mask = (labeled == largest_label)\n",
    "\n",
    "coords = np.column_stack(np.where(pig_mask))\n",
    "\n",
    "min_row, min_col = coords.min(axis=0)\n",
    "max_row, max_col = coords.max(axis=0)\n",
    "\n",
    "pig_length_pixels = max(max_row - min_row, max_col - min_col)\n",
    "print(\"Pig length (in pixels):\", pig_length_pixels)\n",
    "\n",
    "fig, ax = plt.subplots()\n",
    "ax.imshow(pig_mask, cmap='gray')\n",
    "#rect = patches.Rectangle((min_col, min_row), max_col - min_col, max_row - min_row,\n",
    "#linewidth=2, edgecolor='r', facecolor='none')\n",
    "#ax.add_patch(rect)\n",
    "\n",
    "center_row = (min_row + max_row) // 3\n",
    "ref_length = 30 \n",
    "ref_start_col = min_col + (max_col - min_col - ref_length) // 2\n",
    "ref_end_col = ref_start_col + ref_length\n",
    "ax.plot([ref_start_col, ref_end_col], [center_row, center_row], color='red', linewidth=2, label=f'Reference Line ({ref_length} px)')\n",
    "\n",
    "plt.title(\"Pig with Reference Line (short, x-axis)\")\n",
    "plt.axis('off')\n",
    "plt.show()\n",
    "\n",
    "reference_length_cm = 25 \n",
    "pixels_per_cm = ref_length / reference_length_cm\n",
    "print(\"x distance\", max_row - min_row)\n",
    "print(\"y distance\", max_col - min_col)\n",
    "pig_length_pixels = max(max_row - min_row, max_col - min_col)\n",
    "pig_length_cm = pig_length_pixels / pixels_per_cm\n",
    "print(f\"Pig length: {pig_length_pixels:.2f} pixels ≈ {pig_length_cm:.2f} cm (using reference line)\")"
   ]
  }
 ],
 "metadata": {
  "kernelspec": {
   "display_name": "base",
   "language": "python",
   "name": "python3"
  },
  "language_info": {
   "codemirror_mode": {
    "name": "ipython",
    "version": 3
   },
   "file_extension": ".py",
   "mimetype": "text/x-python",
   "name": "python",
   "nbconvert_exporter": "python",
   "pygments_lexer": "ipython3",
   "version": "3.13.5"
  }
 },
 "nbformat": 4,
 "nbformat_minor": 5
}
