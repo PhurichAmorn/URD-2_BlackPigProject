{
 "cells": [],
 "metadata": {
  "kernelspec": {
   "display_name": "URD2",
   "language": "python",
   "name": "python3"
  },
  "language_info": {
   "name": "python",
   "version": "3.13.5"
  }
 },
 "nbformat": 4,
 "nbformat_minor": 5
}
